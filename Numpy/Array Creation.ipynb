{
 "cells": [
  {
   "cell_type": "code",
   "execution_count": null,
   "metadata": {},
   "outputs": [],
   "source": [
    " import numpy as np\n",
    "from numpy import *\n",
    "\n",
    "#Array Decleration\n",
    "arr = array([2,3,4,5,6,7])\n",
    "print(arr)\n",
    "\n",
    "#Array Decleration with type\n",
    "arr = array([2,3,5,6.6])\n",
    "print(arr)\n",
    "print(arr.dtype)\n",
    "\n",
    "#Array Decleration and change datatype\n",
    "arr = array([2,3,5,7.3,8.3] , int)\n",
    "print(arr)\n",
    "print(arr.dtype)\n",
    "\n",
    "\n",
    "arr = linspace(0,5,3)   # arr = linspace(start , end , parts) ; Default parts shows 50\n",
    "print(arr)\n",
    "print(arr.dtype)\n",
    "\n",
    "arr = arange(0,10,2)    #arr = arange(start , end , parts)   ; Default parts shows 1\n",
    "print(arr);\n",
    "print(arr.dtype)\n",
    "\n",
    "arr = logspace(1,10,4)   #arr = logspace(start , end , parts)   ; Default parts shows 50\n",
    "print(arr)\n",
    "print(arr.dtype)\n",
    "\n",
    "arr = zeros((5,3,2),int)\n",
    "print(arr)\n"
   ]
  },
  {
   "cell_type": "markdown",
   "metadata": {},
   "source": [
    "#### Array Creation using List"
   ]
  },
  {
   "cell_type": "code",
   "execution_count": 32,
   "metadata": {},
   "outputs": [
    {
     "name": "stdout",
     "output_type": "stream",
     "text": [
      "[4 5 2 9 3 5]\n"
     ]
    },
    {
     "data": {
      "text/plain": [
       "array([[2, 4, 5, 7, 8],\n",
       "       [1, 5, 6, 9, 2]])"
      ]
     },
     "execution_count": 32,
     "metadata": {},
     "output_type": "execute_result"
    }
   ],
   "source": [
    "\n",
    "list = [4,5,2,9,3,5]\n",
    "arr = np.array(list)\n",
    "print(arr)\n",
    "\n",
    "list = ([2,4,5,7,8] , [1,5,6,9,2])\n",
    "arr = np.array(list)\n",
    "arr\n"
   ]
  },
  {
   "cell_type": "markdown",
   "metadata": {},
   "source": [
    "#### Array Creation Uisng Matrix"
   ]
  },
  {
   "cell_type": "code",
   "execution_count": 25,
   "metadata": {},
   "outputs": [
    {
     "data": {
      "text/plain": [
       "array([[10, 10, 10],\n",
       "       [10, 10, 10],\n",
       "       [10, 10, 10],\n",
       "       [10, 10, 10]])"
      ]
     },
     "execution_count": 25,
     "metadata": {},
     "output_type": "execute_result"
    }
   ],
   "source": [
    "import numpy as np\n",
    "\n",
    "matrix = np.full(4,10) #General Matrix Creation\n",
    "matrix\n",
    "\n",
    "matrix = np.full((4,3) ,10)\n",
    "matrix\n"
   ]
  },
  {
   "cell_type": "code",
   "execution_count": 24,
   "metadata": {},
   "outputs": [
    {
     "data": {
      "text/plain": [
       "array([[1., 0., 0.],\n",
       "       [0., 1., 0.],\n",
       "       [0., 0., 1.]])"
      ]
     },
     "execution_count": 24,
     "metadata": {},
     "output_type": "execute_result"
    }
   ],
   "source": [
    "matrix = np.eye(3)  #Identity Matrix\n",
    "matrix\n"
   ]
  },
  {
   "cell_type": "code",
   "execution_count": 28,
   "metadata": {},
   "outputs": [
    {
     "data": {
      "text/plain": [
       "array([[4, 0, 0, 0],\n",
       "       [0, 5, 0, 0],\n",
       "       [0, 0, 7, 0],\n",
       "       [0, 0, 0, 9]])"
      ]
     },
     "execution_count": 28,
     "metadata": {},
     "output_type": "execute_result"
    }
   ],
   "source": [
    "matrix = np.diag([4,5,7,9])\n",
    "matrix"
   ]
  },
  {
   "cell_type": "code",
   "execution_count": null,
   "metadata": {},
   "outputs": [],
   "source": []
  }
 ],
 "metadata": {
  "kernelspec": {
   "display_name": "Python 3",
   "language": "python",
   "name": "python3"
  },
  "language_info": {
   "codemirror_mode": {
    "name": "ipython",
    "version": 3
   },
   "file_extension": ".py",
   "mimetype": "text/x-python",
   "name": "python",
   "nbconvert_exporter": "python",
   "pygments_lexer": "ipython3",
   "version": "3.7.4"
  }
 },
 "nbformat": 4,
 "nbformat_minor": 2
}
